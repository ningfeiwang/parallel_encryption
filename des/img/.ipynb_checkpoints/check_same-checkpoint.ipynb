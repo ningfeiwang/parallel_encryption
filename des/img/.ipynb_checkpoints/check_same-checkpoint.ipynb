{
 "cells": [
  {
   "cell_type": "code",
   "execution_count": null,
   "metadata": {},
   "outputs": [],
   "source": []
  },
  {
   "cell_type": "code",
   "execution_count": 42,
   "metadata": {},
   "outputs": [],
   "source": [
    "path1 = './pixel_data.txt'\n",
    "path2 = './test1_DES_Final.txt'"
   ]
  },
  {
   "cell_type": "code",
   "execution_count": 43,
   "metadata": {},
   "outputs": [],
   "source": [
    "ori = open(path1, 'r') \n",
    "af = open(path2, 'r')\n",
    "# print(ori.read())"
   ]
  },
  {
   "cell_type": "code",
   "execution_count": 44,
   "metadata": {},
   "outputs": [
    {
     "name": "stdout",
     "output_type": "stream",
     "text": [
      "339968\n",
      "339520\n"
     ]
    }
   ],
   "source": [
    "d1 = ori.read()\n",
    "d2 = af.read()\n",
    "print(len(d1.split()))\n",
    "print(len(d2.split()))\n",
    "for i in range(len(d2.split())):\n",
    "    if d1.split()[i] != d2.split()[i]:\n",
    "        print (i)\n",
    "        print(d1.split()[i])\n",
    "        print(d1.split()[i])\n",
    "        break\n",
    "# print(d1[1441], d2[1441])"
   ]
  },
  {
   "cell_type": "code",
   "execution_count": null,
   "metadata": {},
   "outputs": [],
   "source": []
  },
  {
   "cell_type": "code",
   "execution_count": null,
   "metadata": {},
   "outputs": [],
   "source": []
  }
 ],
 "metadata": {
  "kernelspec": {
   "display_name": "Python 3",
   "language": "python",
   "name": "python3"
  },
  "language_info": {
   "codemirror_mode": {
    "name": "ipython",
    "version": 3
   },
   "file_extension": ".py",
   "mimetype": "text/x-python",
   "name": "python",
   "nbconvert_exporter": "python",
   "pygments_lexer": "ipython3",
   "version": "3.6.5"
  }
 },
 "nbformat": 4,
 "nbformat_minor": 2
}
